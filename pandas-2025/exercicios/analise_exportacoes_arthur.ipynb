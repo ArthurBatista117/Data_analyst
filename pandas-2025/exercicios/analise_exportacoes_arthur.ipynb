{
 "cells": [
  {
   "cell_type": "markdown",
   "id": "5f247131",
   "metadata": {},
   "source": [
    "# Análise de Dados com Pandas - Arthur Batista\n",
    "Este notebook contém uma série de análises feitas com a biblioteca pandas."
   ]
  },
  {
   "cell_type": "code",
   "execution_count": null,
   "id": "9bc1c268",
   "metadata": {},
   "outputs": [],
   "source": [
    "import pandas as pd\n",
    "\n",
    "exp = pd.read_csv('../data/Export.csv')"
   ]
  },
  {
   "cell_type": "markdown",
   "id": "7fa20f5f",
   "metadata": {},
   "source": [
    "## 🔍 Amostragem dos dados"
   ]
  },
  {
   "cell_type": "code",
   "execution_count": null,
   "id": "c596684f",
   "metadata": {},
   "outputs": [],
   "source": [
    "exp.sample(n=7)"
   ]
  },
  {
   "cell_type": "markdown",
   "id": "4404e08a",
   "metadata": {},
   "source": [
    "## 🌍 Países únicos presentes na base de dados"
   ]
  },
  {
   "cell_type": "code",
   "execution_count": null,
   "id": "3a7bf461",
   "metadata": {},
   "outputs": [],
   "source": [
    "only_countries = exp['Area'].unique()\n",
    "print(only_countries)"
   ]
  },
  {
   "cell_type": "markdown",
   "id": "78de7a75",
   "metadata": {},
   "source": [
    "## 🏭 Soma total da produção"
   ]
  },
  {
   "cell_type": "code",
   "execution_count": null,
   "id": "472a9f5b",
   "metadata": {},
   "outputs": [],
   "source": [
    "tot_production = exp['Production'].sum()\n",
    "print(f'Total de produção: {tot_production}')"
   ]
  },
  {
   "cell_type": "markdown",
   "id": "0a9c54ce",
   "metadata": {},
   "source": [
    "## 📦 Filtrando produtos com 'raw' no nome em 2020"
   ]
  },
  {
   "cell_type": "code",
   "execution_count": null,
   "id": "16ada6b7",
   "metadata": {},
   "outputs": [],
   "source": [
    "filtro1 = (exp['Item'].str.contains('raw', case=False)) & (exp['Year'] == 2020)\n",
    "exp[filtro1].sort_values(by=['Item', 'Year'])"
   ]
  },
  {
   "cell_type": "markdown",
   "id": "08c26751",
   "metadata": {},
   "source": [
    "## ⚖️ Criando coluna de balanço entre Produção e Consumo"
   ]
  },
  {
   "cell_type": "code",
   "execution_count": null,
   "id": "619d841b",
   "metadata": {},
   "outputs": [],
   "source": [
    "exp['Balance'] = exp['Production'] - exp['Consumption']\n",
    "exp[['Production', 'Consumption', 'Balance']].sample(n=8)"
   ]
  },
  {
   "cell_type": "markdown",
   "id": "978cf5ed",
   "metadata": {},
   "source": [
    "## 📅 Ordenando os dados por ano"
   ]
  },
  {
   "cell_type": "code",
   "execution_count": null,
   "id": "fde9d1b2",
   "metadata": {},
   "outputs": [],
   "source": [
    "exp_ordered = exp.sort_values(by='Year')\n",
    "exp_ordered.head(10)"
   ]
  },
  {
   "cell_type": "markdown",
   "id": "2cfa0951",
   "metadata": {},
   "source": [
    "## 🥇 Top 5 produtos mais consumidos"
   ]
  },
  {
   "cell_type": "code",
   "execution_count": null,
   "id": "197832a4",
   "metadata": {},
   "outputs": [],
   "source": [
    "top5_most_products = exp.groupby(by='Item').sum(numeric_only=True)\n",
    "top5_most_products.sort_values(by='Consumption', ascending=False).head(5)"
   ]
  }
 ],
 "metadata": {},
 "nbformat": 4,
 "nbformat_minor": 5
}